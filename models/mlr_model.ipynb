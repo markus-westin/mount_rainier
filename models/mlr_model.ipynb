{
 "cells": [
  {
   "cell_type": "markdown",
   "metadata": {},
   "source": [
    "# Multiple Linear Regression Model\n",
    "\n",
    "In this notebook we will develop a multiple linear regression (MLR) model to predict the chance of summitting based on the inputted weather conditions.\n",
    "\n",
    "The MLR Model is based upon the following assumptions:\n",
    "* *Linearity:* There is a linear relationship between the dependent and independent variables\n",
    "* *Homoskedasticity:* The residuals have constant variance at every point in the linear model\n",
    "* *Independence of Errors:* Errors are independent\n",
    "* *Multivariate Normality:* Errors should be normally distributed\n",
    "* *No Multicollinearity:* None of the independent variables are highly correlated with each other "
   ]
  },
  {
   "cell_type": "code",
   "execution_count": null,
   "metadata": {},
   "outputs": [],
   "source": []
  }
 ],
 "metadata": {
  "kernelspec": {
   "display_name": "base",
   "language": "python",
   "name": "python3"
  },
  "language_info": {
   "codemirror_mode": {
    "name": "ipython",
    "version": 3
   },
   "file_extension": ".py",
   "mimetype": "text/x-python",
   "name": "python",
   "nbconvert_exporter": "python",
   "pygments_lexer": "ipython3",
   "version": "3.9.13"
  }
 },
 "nbformat": 4,
 "nbformat_minor": 2
}
